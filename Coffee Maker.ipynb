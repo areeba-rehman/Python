{
 "cells": [
  {
   "cell_type": "code",
   "execution_count": null,
   "id": "10ecee09-370f-4997-8fd3-2095218abafb",
   "metadata": {},
   "outputs": [
    {
     "name": "stdout",
     "output_type": "stream",
     "text": [
      "Welcome to Coffee Shop\n",
      "We are serving: ['Cappuccino', 'Espresso', 'Latte', 'Cold Coffee', 'Black Coffee']\n"
     ]
    }
   ],
   "source": [
    "def welcome_message():\n",
    "    print(\"Welcome to Coffee Shop\")\n",
    "    print(\"We are serving: ['Cappuccino', 'Espresso', 'Latte', 'Cold Coffee', 'Black Coffee']\")\n",
    "\n",
    "def get_order():\n",
    "    order = input(\"What would you want to order? \")\n",
    "    return order\n",
    "\n",
    "def prepare_order(order):\n",
    "    print(f\"We are preparing your {order}! Please wait\")\n",
    "\n",
    "def add_sugar():\n",
    "    sugar = int(input(\"How many spoons of sugar do you want to add: \"))\n",
    "    if sugar == 0:\n",
    "        print(\"Preparing your sugar-free coffee! Please wait\")\n",
    "    else:\n",
    "        print(f\"Adding {sugar} spoon(s) in your coffee! Please wait\")\n",
    "\n",
    "def serve_order(order):\n",
    "    print(f\"Your {order} is ready! Enjoy!\")\n",
    "\n",
    "def place_another_order():\n",
    "    response = input(\"Do you want to place another order again? (yes/no): \")\n",
    "    return response == 'yes'\n",
    "\n",
    "def coffee_shop():\n",
    "    welcome_message()\n",
    "    while True:\n",
    "        order = get_order()\n",
    "        prepare_order(order)\n",
    "        add_sugar()\n",
    "        serve_order(order)\n",
    "        if not place_another_order():\n",
    "            print(\"Thank you for ordering! Please visit us again\")\n",
    "            break\n",
    "        else:\n",
    "            welcome_message()\n",
    "\n",
    "coffee_shop()\n"
   ]
  },
  {
   "cell_type": "code",
   "execution_count": null,
   "id": "f6755cde-0b15-4aa2-9221-ecdb42fee36a",
   "metadata": {},
   "outputs": [],
   "source": []
  }
 ],
 "metadata": {
  "kernelspec": {
   "display_name": "Python 3 (ipykernel)",
   "language": "python",
   "name": "python3"
  },
  "language_info": {
   "codemirror_mode": {
    "name": "ipython",
    "version": 3
   },
   "file_extension": ".py",
   "mimetype": "text/x-python",
   "name": "python",
   "nbconvert_exporter": "python",
   "pygments_lexer": "ipython3",
   "version": "3.11.7"
  }
 },
 "nbformat": 4,
 "nbformat_minor": 5
}

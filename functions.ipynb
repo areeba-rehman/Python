{
 "cells": [
  {
   "cell_type": "markdown",
   "id": "777ed198-df56-4174-9351-83626fd2f5a8",
   "metadata": {},
   "source": [
    "FUNCTIONS:"
   ]
  },
  {
   "cell_type": "markdown",
   "id": "0a51f7cf-269c-44df-897d-fcb35b617aeb",
   "metadata": {},
   "source": [
    "* provide organized.\n",
    "* reusable and modular to perform some specific task/actions.\n",
    "* simplify the coding process.\n",
    "* prevent redundant logic, and make the code easier.\n",
    "\n",
    "* two types of functions.\n",
    "*   built-in functions like: print(), input(), len().\n",
    "*   u can also create ur own functions to do more specific job-these functions known as user-defined functions."
   ]
  },
  {
   "cell_type": "markdown",
   "id": "a5675252-a2b6-4833-af37-5dcc0d514b89",
   "metadata": {},
   "source": [
    "HOW TO CREATE UR OWN FUNCTION:\n",
    "   * def function_name(parameter):\n",
    "        ***doc string***\n",
    "        expression\n",
    "        statement(s)\n",
    "\n",
    "* def is a keyword. (define)"
   ]
  },
  {
   "cell_type": "code",
   "execution_count": 2,
   "id": "40ed82e9-0ef2-4687-a970-4fe0b1f1f2ac",
   "metadata": {},
   "outputs": [
    {
     "data": {
      "text/plain": [
       "4"
      ]
     },
     "execution_count": 2,
     "metadata": {},
     "output_type": "execute_result"
    }
   ],
   "source": [
    "def square(): #function to find square of a number.\n",
    "    \"\"\"This function is used for only square\"\"\" #***doc string***\n",
    "    x = 2**2 # expression\n",
    "    return x # statement\n",
    "square()   # function calling"
   ]
  },
  {
   "cell_type": "code",
   "execution_count": 5,
   "id": "fe40121f-6836-4fa0-902c-06607eedb6bb",
   "metadata": {},
   "outputs": [
    {
     "data": {
      "text/plain": [
       "8"
      ]
     },
     "execution_count": 5,
     "metadata": {},
     "output_type": "execute_result"
    }
   ],
   "source": [
    "def cube():\n",
    "    y = 2**3\n",
    "    return y\n",
    "cube()"
   ]
  },
  {
   "cell_type": "code",
   "execution_count": 11,
   "id": "6ecd4a0d-8124-4b69-abd0-b058eb048622",
   "metadata": {},
   "outputs": [
    {
     "name": "stdin",
     "output_type": "stream",
     "text": [
      "Enter your number: 3\n"
     ]
    },
    {
     "data": {
      "text/plain": [
       "9"
      ]
     },
     "execution_count": 11,
     "metadata": {},
     "output_type": "execute_result"
    }
   ],
   "source": [
    "a= int(input(\"Enter your number:\" ))\n",
    "def square():\n",
    "    x = a**2\n",
    "    return x\n",
    "square()"
   ]
  },
  {
   "cell_type": "code",
   "execution_count": 13,
   "id": "0114ffdd-610b-4aa3-97ae-1d0602eb1d4f",
   "metadata": {},
   "outputs": [
    {
     "name": "stdin",
     "output_type": "stream",
     "text": [
      "Enter your number: 3\n"
     ]
    },
    {
     "data": {
      "text/plain": [
       "27"
      ]
     },
     "execution_count": 13,
     "metadata": {},
     "output_type": "execute_result"
    }
   ],
   "source": [
    "b = int(input(\"Enter your number:\" ))\n",
    "def cube():\n",
    "    y = a**3\n",
    "    return y\n",
    "cube()"
   ]
  },
  {
   "cell_type": "code",
   "execution_count": 15,
   "id": "557d2f25-0cdf-474e-8691-f75afc1b2e8b",
   "metadata": {},
   "outputs": [
    {
     "name": "stdin",
     "output_type": "stream",
     "text": [
      "Enter your number:  2\n",
      "Enter your number:  3\n"
     ]
    },
    {
     "data": {
      "text/plain": [
       "5"
      ]
     },
     "execution_count": 15,
     "metadata": {},
     "output_type": "execute_result"
    }
   ],
   "source": [
    "c = int(input(\"Enter your number: \"))\n",
    "d = int(input(\"Enter your number: \"))\n",
    "def sum():\n",
    "    i = c + d\n",
    "    return i\n",
    "sum()"
   ]
  },
  {
   "cell_type": "code",
   "execution_count": 19,
   "id": "a304e8d1-8ced-45f1-98b3-08e2cba4b77a",
   "metadata": {},
   "outputs": [
    {
     "name": "stdin",
     "output_type": "stream",
     "text": [
      "Enter your number:  2\n",
      "Enter your number:  3\n"
     ]
    },
    {
     "name": "stdout",
     "output_type": "stream",
     "text": [
      "The addidtion is: \n"
     ]
    },
    {
     "data": {
      "text/plain": [
       "5"
      ]
     },
     "execution_count": 19,
     "metadata": {},
     "output_type": "execute_result"
    }
   ],
   "source": [
    "c = int(input(\"Enter your number: \"))\n",
    "d = int(input(\"Enter your number: \"))\n",
    "def sum():\n",
    "    i = c + d\n",
    "    print(\"The addidtion is: \")\n",
    "    return i\n",
    "sum()"
   ]
  },
  {
   "cell_type": "code",
   "execution_count": 17,
   "id": "5b6f16b8-79bb-466d-b8ec-1c54f05ba922",
   "metadata": {},
   "outputs": [
    {
     "name": "stdout",
     "output_type": "stream",
     "text": [
      "This is the 1st program of function.\n",
      "It is building block.\n"
     ]
    }
   ],
   "source": [
    "def greeting():\n",
    "    print(\"This is the 1st program of function.\")\n",
    "    print(\"It is building block.\")\n",
    "greeting()"
   ]
  },
  {
   "cell_type": "code",
   "execution_count": 20,
   "id": "cdceb09b-9b44-4d94-bc6f-5c7c9de71a58",
   "metadata": {},
   "outputs": [
    {
     "name": "stdout",
     "output_type": "stream",
     "text": [
      "First name Areeba\n"
     ]
    }
   ],
   "source": [
    "def myfunc(fname): # function with one parameter.\n",
    "    print(\"First name \" + fname)\n",
    "myfunc(\"Areeba\") # function with one argument"
   ]
  },
  {
   "cell_type": "code",
   "execution_count": 21,
   "id": "2a3b2bab-e60a-4857-be35-599619be1741",
   "metadata": {},
   "outputs": [
    {
     "name": "stdout",
     "output_type": "stream",
     "text": [
      "First name Areeba\n",
      "First name Ahmed\n"
     ]
    }
   ],
   "source": [
    "def myfunc(fname): # function with one parameter.\n",
    "    print(\"First name \" + fname)\n",
    "myfunc(\"Areeba\") # function with one argument\n",
    "myfunc(\"Taha\")"
   ]
  },
  {
   "cell_type": "code",
   "execution_count": 2,
   "id": "3c5aaec5-673d-4d1c-a50e-6917f317375d",
   "metadata": {},
   "outputs": [
    {
     "name": "stdout",
     "output_type": "stream",
     "text": [
      "My name is Areeba Rehman\n"
     ]
    }
   ],
   "source": [
    "def myfunc(fname,lname): \n",
    "    print(\"My name is \" + fname+ ' ' +lname)\n",
    "myfunc(\"Areeba\" , \"Rehman\") "
   ]
  },
  {
   "cell_type": "code",
   "execution_count": 4,
   "id": "b3f7fbd5-a3b5-4afc-b95b-99d19bd9f24e",
   "metadata": {},
   "outputs": [
    {
     "name": "stdin",
     "output_type": "stream",
     "text": [
      "Enter your name:  Areeba\n",
      "Enter your name:  Rehman\n"
     ]
    },
    {
     "name": "stdout",
     "output_type": "stream",
     "text": [
      "The name is Areeba Rehman\n"
     ]
    }
   ],
   "source": [
    "def name():\n",
    "    fname = input(\"Enter your first name: \")\n",
    "    lname = input(\"Enter your last name: \")\n",
    "    print(\"The name is \" + fname+ ' ' +lname)\n",
    "name()"
   ]
  },
  {
   "cell_type": "code",
   "execution_count": 37,
   "id": "d89834f1-007e-4651-a531-17a519524cc8",
   "metadata": {},
   "outputs": [
    {
     "ename": "IndentationError",
     "evalue": "expected an indented block after function definition on line 1 (806604200.py, line 2)",
     "output_type": "error",
     "traceback": [
      "\u001b[1;36m  Cell \u001b[1;32mIn[37], line 2\u001b[1;36m\u001b[0m\n\u001b[1;33m    greet_two()\u001b[0m\n\u001b[1;37m    ^\u001b[0m\n\u001b[1;31mIndentationError\u001b[0m\u001b[1;31m:\u001b[0m expected an indented block after function definition on line 1\n"
     ]
    }
   ],
   "source": [
    "def greet_two(greeting = \"Howdy\"):\n",
    "greet_two()"
   ]
  },
  {
   "cell_type": "code",
   "execution_count": 6,
   "id": "9aff0612-321a-492e-a70b-78fed60675e9",
   "metadata": {},
   "outputs": [],
   "source": [
    "def greet_two(greeting = \"Howdy\"):\n",
    "    pass  #used to pass \n",
    "greet_two()"
   ]
  },
  {
   "cell_type": "markdown",
   "id": "ea25f7eb-bf7d-4a68-8f7c-42780f13a866",
   "metadata": {},
   "source": [
    "    ***FACTORIAL***\n",
    "4! = 4*3*2*1\n",
    "\n",
    "4\n",
    "return 4 * factorial(4-1) ----> 4*3\n",
    "       3 * factorial(4-1) ----> 3*2"
   ]
  },
  {
   "cell_type": "code",
   "execution_count": 39,
   "id": "3f190de6-1cb0-4df1-a030-1f67cfaa6ddf",
   "metadata": {},
   "outputs": [
    {
     "data": {
      "text/plain": [
       "6"
      ]
     },
     "execution_count": 39,
     "metadata": {},
     "output_type": "execute_result"
    }
   ],
   "source": [
    "def factorial(num): # Calculate factorial of a number using recursive\n",
    "    if num <= 1:\n",
    "        return 1\n",
    "    else:\n",
    "        return num * factorial(num-1)\n",
    "factorial(3)"
   ]
  },
  {
   "cell_type": "code",
   "execution_count": 45,
   "id": "6865d603-a17a-430e-baa9-95138b2ec800",
   "metadata": {},
   "outputs": [
    {
     "name": "stdin",
     "output_type": "stream",
     "text": [
      "Enter your number:  4\n"
     ]
    },
    {
     "data": {
      "text/plain": [
       "24"
      ]
     },
     "execution_count": 45,
     "metadata": {},
     "output_type": "execute_result"
    }
   ],
   "source": [
    "def factorial(num): # Calculate factorial of a number using recursive\n",
    "    if num <= 1:\n",
    "        return 1\n",
    "    else:\n",
    "        return num * factorial(num-1)\n",
    "num = int(input(\"Enter your number: \"))\n",
    "factorial(num)"
   ]
  },
  {
   "cell_type": "code",
   "execution_count": 55,
   "id": "263b9a51-d75a-4998-90df-6d3f1d2d24de",
   "metadata": {},
   "outputs": [
    {
     "name": "stdin",
     "output_type": "stream",
     "text": [
      "Enter the length:  3\n",
      "Enter the breadth:  4\n"
     ]
    },
    {
     "name": "stdout",
     "output_type": "stream",
     "text": [
      "14\n",
      "12\n"
     ]
    }
   ],
   "source": [
    "# Calculate a perimeter and area of a rectangle using function methodology.\n",
    "# Take user input also\n",
    "\n",
    "def rectangle():\n",
    "    perimeter = 2*(l + b )\n",
    "    print(perimeter)\n",
    "    area = l * b\n",
    "    print(area)\n",
    "    \n",
    "l = int(input(\"Enter the length: \"))\n",
    "b = int(input(\"Enter the breadth: \"))\n",
    "rectangle()"
   ]
  },
  {
   "cell_type": "code",
   "execution_count": 1,
   "id": "057e11a6-6b0e-43fa-8620-3b8e4113aa70",
   "metadata": {},
   "outputs": [
    {
     "name": "stdout",
     "output_type": "stream",
     "text": [
      "[4, 9, 16, 25, 36]\n"
     ]
    }
   ],
   "source": [
    "def square_numbers(numbers):\n",
    "    list_squares = []\n",
    "    for x in numbers:\n",
    "        list_squares.append(x*x)\n",
    "    return list_squares\n",
    "\n",
    "numbers_list = [2, 3, 4, 5, 6]\n",
    "print(square_numbers(numbers_list))"
   ]
  },
  {
   "cell_type": "code",
   "execution_count": 2,
   "id": "b3221442-4d3d-4f89-a500-9a4c4c46fa7c",
   "metadata": {},
   "outputs": [
    {
     "name": "stdin",
     "output_type": "stream",
     "text": [
      "Enter your desired number of list 4\n",
      " 1\n",
      " 5\n",
      " 6\n",
      " 8\n"
     ]
    },
    {
     "name": "stdout",
     "output_type": "stream",
     "text": [
      "[1, 5, 6, 8]\n",
      "[1, 25, 36, 64]\n"
     ]
    }
   ],
   "source": [
    "numlist = []\n",
    "n = int(input(\"Enter your desired number of list\"))\n",
    "for n in range(0,n):\n",
    "    element = int(input())\n",
    "    numlist.append(element)\n",
    "print(numlist)\n",
    "\n",
    "def square_numbers(numbers):\n",
    "    list_squares = []\n",
    "    for x in numbers:\n",
    "        list_squares.append(x*x)\n",
    "    return list_squares\n",
    "\n",
    "numbers_list = numlist\n",
    "print(square_numbers(numbers_list))"
   ]
  }
 ],
 "metadata": {
  "kernelspec": {
   "display_name": "Python 3 (ipykernel)",
   "language": "python",
   "name": "python3"
  },
  "language_info": {
   "codemirror_mode": {
    "name": "ipython",
    "version": 3
   },
   "file_extension": ".py",
   "mimetype": "text/x-python",
   "name": "python",
   "nbconvert_exporter": "python",
   "pygments_lexer": "ipython3",
   "version": "3.11.7"
  }
 },
 "nbformat": 4,
 "nbformat_minor": 5
}

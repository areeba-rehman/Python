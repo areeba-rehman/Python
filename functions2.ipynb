{
 "cells": [
  {
   "cell_type": "code",
   "execution_count": 1,
   "id": "15ccc8ec-44dd-4dba-8947-a31a620a8dc1",
   "metadata": {},
   "outputs": [
    {
     "name": "stdout",
     "output_type": "stream",
     "text": [
      "[4, 9, 16, 25, 36]\n"
     ]
    }
   ],
   "source": [
    "def square_numbers(numbers):\n",
    "    list_squares = []\n",
    "    for x in numbers:\n",
    "        list_squares.append(x*x)\n",
    "    return list_squares\n",
    "\n",
    "numbers_list = [2, 3, 4, 5, 6]\n",
    "print(square_numbers(numbers_list))"
   ]
  },
  {
   "cell_type": "code",
   "execution_count": 5,
   "id": "e2dee95d-91d9-4b1a-bda3-4c1a59e62e39",
   "metadata": {},
   "outputs": [
    {
     "name": "stdout",
     "output_type": "stream",
     "text": [
      "[]\n"
     ]
    },
    {
     "name": "stdin",
     "output_type": "stream",
     "text": [
      "Enter your desired number of list 4\n",
      " 2\n",
      " 5\n",
      " 4\n",
      " 3\n"
     ]
    },
    {
     "name": "stdout",
     "output_type": "stream",
     "text": [
      "[2, 5, 4, 3]\n",
      "[4, 25, 16, 9]\n"
     ]
    }
   ],
   "source": [
    "numlist = []\n",
    "print(numlist)\n",
    "\n",
    "n = int(input(\"Enter your desired number of list\"))\n",
    "for n in range(0,n):\n",
    "    element = int(input())\n",
    "    numlist.append(element)\n",
    "print(numlist)\n",
    "\n",
    "def square_numbers(numbers):\n",
    "    list_squares = []\n",
    "    for x in numbers:\n",
    "        list_squares.append(x*x)\n",
    "    return list_squares\n",
    "\n",
    "numbers_list = numlist\n",
    "print(square_numbers(numbers_list))"
   ]
  },
  {
   "cell_type": "markdown",
   "id": "425f8a20-5879-4eb9-92a7-65b4644416d7",
   "metadata": {},
   "source": [
    "MULTIPLE PARAMETER & MULTIPLE ARGUMENTS USING \"**args**\""
   ]
  },
  {
   "cell_type": "markdown",
   "id": "867fa0d7-316a-4907-9e9e-9850c39f5238",
   "metadata": {},
   "source": [
    "args allow us to pass a variable number of non-keyword arguments to a python function. In the function, we should use an asterisk () before the parameter name\n",
    "\n",
    "whenever we use keyword args we have to put * before"
   ]
  },
  {
   "cell_type": "code",
   "execution_count": 3,
   "id": "28c65e8c-72e4-4555-bdc2-cd5b79400443",
   "metadata": {},
   "outputs": [
    {
     "name": "stdout",
     "output_type": "stream",
     "text": [
      "(1, 2, 3, 4, 5, 6, 7, 8, 9, 10)\n"
     ]
    }
   ],
   "source": [
    "def func1(*args):\n",
    "    print(args)\n",
    "func1(1,2,3,4,5,6,7,8,9,10)"
   ]
  },
  {
   "cell_type": "code",
   "execution_count": null,
   "id": "94dc1337-135d-47d7-a5de-ff868d8795fa",
   "metadata": {},
   "outputs": [],
   "source": [
    "def func1"
   ]
  },
  {
   "cell_type": "code",
   "execution_count": null,
   "id": "18e9d773-f139-4d58-9ac5-818ee9712bc9",
   "metadata": {},
   "outputs": [],
   "source": [
    "def UserDetails(*args):\n",
    "    print(args)\n",
    "\n",
    "UserDetails(\"Raheel\", 23424, \"sssss\")"
   ]
  },
  {
   "cell_type": "code",
   "execution_count": 9,
   "id": "9adf20f5-5566-4c7a-bd2f-08e1c800f576",
   "metadata": {},
   "outputs": [
    {
     "name": "stdin",
     "output_type": "stream",
     "text": [
      "Enter your Name:  Areeba Rehman\n",
      "Enter your profession:  student\n",
      "Enter your gender:  female\n",
      "Enter your age:  23\n",
      "Enter your specialization:  DS\n"
     ]
    },
    {
     "name": "stdout",
     "output_type": "stream",
     "text": [
      "('Areeba Rehman', 'student', 'female', '23', 'DS')\n"
     ]
    }
   ],
   "source": [
    "def UserDetails(*args):\n",
    "    print(args)\n",
    "fullname = input(\"Enter your Name: \")\n",
    "profession = input(\"Enter your profession: \")\n",
    "gender = input(\"Enter your gender: \")\n",
    "age = input(\"Enter your age: \")\n",
    "specialization = input(\"Enter your specialization: \")\n",
    "UserDetails(fullname, profession , gender , age , specialization)"
   ]
  },
  {
   "cell_type": "code",
   "execution_count": null,
   "id": "e1e434e2-65a1-4363-bf7d-43a432eb8669",
   "metadata": {},
   "outputs": [],
   "source": [
    "def UserDetails(*information):\n",
    "    print(information)\n",
    "\n",
    "UserDetails(\"Areeba Rehman\", \"student\" , \"female\" , 23 , \"Data science\")"
   ]
  },
  {
   "cell_type": "code",
   "execution_count": 6,
   "id": "7bf360e1-a0e2-45df-8d57-7314679fd5ea",
   "metadata": {},
   "outputs": [
    {
     "name": "stdout",
     "output_type": "stream",
     "text": [
      "6\n"
     ]
    }
   ],
   "source": [
    "def my_sum(my_integers):\n",
    "    result = 0\n",
    "    for x in my_integers:\n",
    "        result += x\n",
    "    return result\n",
    "\n",
    "list_of_integers = [1, 2, 3]\n",
    "print(my_sum(list_of_integers))"
   ]
  },
  {
   "cell_type": "code",
   "execution_count": 7,
   "id": "c78bd6ca-f4f6-4281-a4b8-f62a3e37791f",
   "metadata": {},
   "outputs": [
    {
     "name": "stdout",
     "output_type": "stream",
     "text": [
      "6\n"
     ]
    }
   ],
   "source": [
    "def my_sum(*args):\n",
    "    result = 0\n",
    "    # Iterating over the python args tuple\n",
    "    for x in args:\n",
    "        result += x\n",
    "    return result\n",
    "\n",
    "print(my_sum(1, 2, 3))"
   ]
  },
  {
   "cell_type": "markdown",
   "id": "f520a026-403d-4d7c-b9d9-4de55365d023",
   "metadata": {},
   "source": [
    "**kwargs"
   ]
  },
  {
   "cell_type": "code",
   "execution_count": 11,
   "id": "4bffc6b8-addc-4b6f-b3e5-6e53dd50038d",
   "metadata": {},
   "outputs": [
    {
     "name": "stdout",
     "output_type": "stream",
     "text": [
      "{'Name': 'Areeba', 'ID': 7412, 'Pincode': 41102, 'Age': 23}\n"
     ]
    }
   ],
   "source": [
    "def userDetails(**kwargs): # **kwargs use only dictionary\n",
    "    print(kwargs)\n",
    "\n",
    "userDetails(Name='Areeba' , ID=7412 , Pincode=41102 , Age=23)"
   ]
  },
  {
   "cell_type": "code",
   "execution_count": 12,
   "id": "edbf5eff-d44c-45ff-83d8-2b853a79b63c",
   "metadata": {},
   "outputs": [
    {
     "name": "stdout",
     "output_type": "stream",
     "text": [
      "{'Name': 'Areeba', 'ID': 7412, 'Pincode': 41102, 'Age': 23}\n"
     ]
    }
   ],
   "source": [
    "def userDetails(**information):\n",
    "    print(information)\n",
    "\n",
    "userDetails(Name='Areeba' , ID=7412 , Pincode=41102 , Age=23)"
   ]
  },
  {
   "cell_type": "code",
   "execution_count": 13,
   "id": "57d2b234-79f8-48f2-b9fd-c9b6b792c1e5",
   "metadata": {},
   "outputs": [
    {
     "name": "stdout",
     "output_type": "stream",
     "text": [
      "RealPythonIsGreat!\n"
     ]
    }
   ],
   "source": [
    "def concatenate(**kwargs):\n",
    "    result = \"\"\n",
    "    # Iterating over the Python kwargs dictionary\n",
    "    for arg in kwargs.values():\n",
    "        result += arg\n",
    "    return result\n",
    "\n",
    "print(concatenate(a=\"Real\", b=\"Python\", c=\"Is\", d=\"Great\", e=\"!\"))"
   ]
  },
  {
   "cell_type": "code",
   "execution_count": 17,
   "id": "5ae708be-951c-4e0a-af7f-7012836eef4a",
   "metadata": {},
   "outputs": [
    {
     "name": "stdout",
     "output_type": "stream",
     "text": [
      "abcde\n"
     ]
    }
   ],
   "source": [
    "def concatenate(**kwargs):\n",
    "    result = \"\"\n",
    "    # Iterating over the Python kwargs dictionary\n",
    "    for arg in kwargs.keys():\n",
    "        result += arg\n",
    "    return result\n",
    "\n",
    "print(concatenate(a=\"Real\", b=\"Python\", c=\"Is\", d=\"Great\", e=\"!\"))"
   ]
  },
  {
   "cell_type": "code",
   "execution_count": 19,
   "id": "cacad9a9-d568-49dc-aad0-265d0c1fe53a",
   "metadata": {},
   "outputs": [
    {
     "name": "stdout",
     "output_type": "stream",
     "text": [
      "Name :- Areeba\n",
      "ID :- 7412\n",
      "Pincode :- 41102\n",
      "Age :- 23\n",
      "Country :- Pakistan\n",
      "None\n"
     ]
    }
   ],
   "source": [
    "def concatenate(**kwargs):\n",
    "    result = \"\"\n",
    "    # Iterating over the Python kwargs dictionary\n",
    "    for key,val in kwargs.items():\n",
    "        print(\"{} :- {}\".format(key,val))\n",
    "       \n",
    "\n",
    "print(concatenate(Name=\"Areeba\", ID=7412, Pincode=41102, Age=23 , Country=\"Pakistan\"))"
   ]
  },
  {
   "cell_type": "markdown",
   "id": "9e3a1070-bc98-46f7-a5e7-6e748afe529f",
   "metadata": {},
   "source": [
    "***NESTED FUNCTION***"
   ]
  },
  {
   "cell_type": "code",
   "execution_count": 20,
   "id": "909dd89d-96c5-4ae0-bc97-c38b66d287c1",
   "metadata": {},
   "outputs": [
    {
     "name": "stdout",
     "output_type": "stream",
     "text": [
      "Hello from outer function\n",
      "Hello from inner function\n"
     ]
    }
   ],
   "source": [
    "def function1(): #outer function\n",
    "    print(\"Hello from outer function\")\n",
    "    def function2():  #inner function\n",
    "        print(\"Hello from inner function\")\n",
    "    function2()\n",
    "\n",
    "function1()"
   ]
  },
  {
   "cell_type": "code",
   "execution_count": 21,
   "id": "2d5002f5-0f3a-4b43-8d63-0a1e3d78d683",
   "metadata": {},
   "outputs": [
    {
     "name": "stdout",
     "output_type": "stream",
     "text": [
      "50\n"
     ]
    }
   ],
   "source": [
    "def num1(x):\n",
    "    def num2(y):\n",
    "        return x * y\n",
    "    return num2\n",
    "\n",
    "res = num1(10)\n",
    "\n",
    "print(res(5))"
   ]
  },
  {
   "cell_type": "code",
   "execution_count": 22,
   "id": "94dee960-6170-4c46-b81c-d0ffcdd73c06",
   "metadata": {},
   "outputs": [
    {
     "name": "stdout",
     "output_type": "stream",
     "text": [
      "<function num1.<locals>.num2 at 0x00000249EA161DA0>\n",
      "50\n"
     ]
    }
   ],
   "source": [
    "def num1(x):\n",
    "    def num2(y):\n",
    "        return x * y\n",
    "    return num2\n",
    "\n",
    "res = num1(10)\n",
    "print(res)\n",
    "\n",
    "print(res(5))"
   ]
  },
  {
   "cell_type": "code",
   "execution_count": 24,
   "id": "cde2e3f8-ecec-43c4-b319-8342ed4f5795",
   "metadata": {},
   "outputs": [
    {
     "name": "stdout",
     "output_type": "stream",
     "text": [
      "150\n"
     ]
    }
   ],
   "source": [
    "def num1(x):\n",
    "    def num2(y):\n",
    "        def num3(z):\n",
    "            return x * y * z # 10 * 5 * 3\n",
    "        return num3\n",
    "    return num2\n",
    "\n",
    "\n",
    "res = num1(10)\n",
    "a=res(5)\n",
    "print(a(3))"
   ]
  },
  {
   "cell_type": "code",
   "execution_count": 27,
   "id": "feaf3ee3-57f5-4fff-bfc9-91d19a404ef3",
   "metadata": {},
   "outputs": [
    {
     "name": "stdout",
     "output_type": "stream",
     "text": [
      "MissAreebaRehman\n"
     ]
    }
   ],
   "source": [
    "def fname(name1):\n",
    "    def mname(name2):\n",
    "        def lname(name3):\n",
    "            return name1+name2+name3\n",
    "        return lname\n",
    "    return mname\n",
    "fullname = fname(\"Miss\")\n",
    "a = fullname(\"Areeba\")\n",
    "print(a(\"Rehman\"))"
   ]
  }
 ],
 "metadata": {
  "kernelspec": {
   "display_name": "Python 3 (ipykernel)",
   "language": "python",
   "name": "python3"
  },
  "language_info": {
   "codemirror_mode": {
    "name": "ipython",
    "version": 3
   },
   "file_extension": ".py",
   "mimetype": "text/x-python",
   "name": "python",
   "nbconvert_exporter": "python",
   "pygments_lexer": "ipython3",
   "version": "3.11.7"
  }
 },
 "nbformat": 4,
 "nbformat_minor": 5
}

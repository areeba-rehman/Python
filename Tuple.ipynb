{
 "cells": [
  {
   "cell_type": "code",
   "execution_count": 3,
   "id": "bbeb65c0-9aa3-4113-ae32-3e59ec1832d5",
   "metadata": {},
   "outputs": [
    {
     "name": "stdout",
     "output_type": "stream",
     "text": [
      "(1, 2, 3, 4, 5)\n",
      "1\n",
      "3\n"
     ]
    }
   ],
   "source": [
    "my_tuple = (1, 2, 3, 4, 5)  #indexing (0, 1, 2, 3, 4)\n",
    "print(my_tuple)\n",
    "print(my_tuple[0])\n",
    "print(my_tuple[-3])"
   ]
  },
  {
   "cell_type": "code",
   "execution_count": 4,
   "id": "9e3e94c1-23d2-464c-905e-b173b7e3e272",
   "metadata": {},
   "outputs": [
    {
     "name": "stdout",
     "output_type": "stream",
     "text": [
      "(1, 2, 3)\n"
     ]
    }
   ],
   "source": [
    "#Tuple packing and unpacking\n",
    "my_tuple = 1, 2, 3\n",
    "print(my_tuple)"
   ]
  },
  {
   "cell_type": "code",
   "execution_count": 6,
   "id": "64bc06bd-6b8b-419d-8a38-47d6cdf1199a",
   "metadata": {},
   "outputs": [
    {
     "name": "stdout",
     "output_type": "stream",
     "text": [
      "('hello', 'my', 'error')\n"
     ]
    },
    {
     "data": {
      "text/plain": [
       "tuple"
      ]
     },
     "execution_count": 6,
     "metadata": {},
     "output_type": "execute_result"
    }
   ],
   "source": [
    "my = \"hello\", \"my\", \"error\"\n",
    "print(my)\n",
    "type(my)"
   ]
  },
  {
   "cell_type": "code",
   "execution_count": 7,
   "id": "1520e36f-a73d-493b-9bbe-2900f5ebefd6",
   "metadata": {},
   "outputs": [
    {
     "name": "stdout",
     "output_type": "stream",
     "text": [
      "1 2 3\n"
     ]
    }
   ],
   "source": [
    "#unpacking\n",
    "x, y, z = my_tuple\n",
    "print(x, y, z)"
   ]
  },
  {
   "cell_type": "markdown",
   "id": "755fcf37-d97a-43c0-803b-3c5c16cb6300",
   "metadata": {},
   "source": [
    "Concatenating Tuples:"
   ]
  },
  {
   "cell_type": "code",
   "execution_count": 9,
   "id": "3825e163-df99-4dfc-b710-1b65e37c4eb6",
   "metadata": {},
   "outputs": [
    {
     "name": "stdout",
     "output_type": "stream",
     "text": [
      "(1, 2, 3, 4, 5, 6)\n"
     ]
    }
   ],
   "source": [
    "tuple1 = (1, 2, 3)\n",
    "tuple2 = (4, 5, 6)\n",
    "concatenated_tuple = tuple1 + tuple2\n",
    "print(concatenated_tuple)"
   ]
  },
  {
   "cell_type": "markdown",
   "id": "e46d3b96-ea2f-49d1-909a-8f4011e004af",
   "metadata": {},
   "source": [
    "Repeat Tuple:"
   ]
  },
  {
   "cell_type": "code",
   "execution_count": 10,
   "id": "fa444621-5b55-4901-9e91-70e334b4bcb1",
   "metadata": {},
   "outputs": [
    {
     "data": {
      "text/plain": [
       "(4, 2, 3, 4, 2, 3, 4, 2, 3, 4, 2, 3)"
      ]
     },
     "execution_count": 10,
     "metadata": {},
     "output_type": "execute_result"
    }
   ],
   "source": [
    "#concatenating tuples\n",
    "tuple1 = (4, 2, 3)\n",
    "repeat = tuple1*4\n",
    "repeat"
   ]
  },
  {
   "cell_type": "code",
   "execution_count": 11,
   "id": "d72da53b-66d0-428b-a72f-b7b978469d38",
   "metadata": {},
   "outputs": [
    {
     "data": {
      "text/plain": [
       "False"
      ]
     },
     "execution_count": 11,
     "metadata": {},
     "output_type": "execute_result"
    }
   ],
   "source": [
    "6 in tuple1"
   ]
  },
  {
   "cell_type": "code",
   "execution_count": 12,
   "id": "279f4708-c2e2-40c4-9b1e-1d18f8d25658",
   "metadata": {},
   "outputs": [
    {
     "data": {
      "text/plain": [
       "True"
      ]
     },
     "execution_count": 12,
     "metadata": {},
     "output_type": "execute_result"
    }
   ],
   "source": [
    "4 in tuple1"
   ]
  },
  {
   "cell_type": "code",
   "execution_count": 13,
   "id": "42b1472d-1573-4468-b085-d1f8fe1b21b0",
   "metadata": {},
   "outputs": [
    {
     "name": "stdout",
     "output_type": "stream",
     "text": [
      "False\n"
     ]
    }
   ],
   "source": [
    "print(6 in tuple1)"
   ]
  },
  {
   "cell_type": "code",
   "execution_count": 14,
   "id": "bb0ea10a-3b75-4a28-819e-b05937c60ac0",
   "metadata": {},
   "outputs": [
    {
     "data": {
      "text/plain": [
       "(4, 2, 3)"
      ]
     },
     "execution_count": 14,
     "metadata": {},
     "output_type": "execute_result"
    }
   ],
   "source": [
    "#unpacking\n",
    "tuple1"
   ]
  },
  {
   "cell_type": "code",
   "execution_count": 15,
   "id": "d2def30c-389d-4b81-adcd-c5db25f462c4",
   "metadata": {},
   "outputs": [],
   "source": [
    "a,b,c = tuple1 #hr tuple value ko variable assign kr rahey"
   ]
  },
  {
   "cell_type": "code",
   "execution_count": 16,
   "id": "e5e2d29e-e63a-4c9f-8099-8c2be7c83a9a",
   "metadata": {},
   "outputs": [
    {
     "data": {
      "text/plain": [
       "4"
      ]
     },
     "execution_count": 16,
     "metadata": {},
     "output_type": "execute_result"
    }
   ],
   "source": [
    "a"
   ]
  },
  {
   "cell_type": "code",
   "execution_count": 17,
   "id": "e0941c49-d6b6-4329-87c0-697be2e8e81b",
   "metadata": {},
   "outputs": [
    {
     "name": "stdout",
     "output_type": "stream",
     "text": [
      "4\n",
      "2\n",
      "3\n"
     ]
    }
   ],
   "source": [
    "for i in tuple1:\n",
    "    print(i)"
   ]
  },
  {
   "cell_type": "code",
   "execution_count": 18,
   "id": "4d9ba380-55cd-430a-aac2-85654583213a",
   "metadata": {},
   "outputs": [
    {
     "data": {
      "text/plain": [
       "3"
      ]
     },
     "execution_count": 18,
     "metadata": {},
     "output_type": "execute_result"
    }
   ],
   "source": [
    "len(tuple1)"
   ]
  },
  {
   "cell_type": "code",
   "execution_count": null,
   "id": "04a1e17d-2390-4fc4-96fc-0cf0d32ac9d1",
   "metadata": {},
   "outputs": [],
   "source": []
  }
 ],
 "metadata": {
  "kernelspec": {
   "display_name": "Python 3 (ipykernel)",
   "language": "python",
   "name": "python3"
  },
  "language_info": {
   "codemirror_mode": {
    "name": "ipython",
    "version": 3
   },
   "file_extension": ".py",
   "mimetype": "text/x-python",
   "name": "python",
   "nbconvert_exporter": "python",
   "pygments_lexer": "ipython3",
   "version": "3.11.7"
  }
 },
 "nbformat": 4,
 "nbformat_minor": 5
}

{
 "cells": [
  {
   "cell_type": "code",
   "execution_count": 1,
   "id": "9e713cdd-36f1-4217-8dcf-8c0c56da6b4d",
   "metadata": {},
   "outputs": [
    {
     "data": {
      "text/plain": [
       "list"
      ]
     },
     "execution_count": 1,
     "metadata": {},
     "output_type": "execute_result"
    }
   ],
   "source": [
    "person = [\"Areeba Rehman\" , 23 , 3.4 , \"BSCS\"]\n",
    "type(person)"
   ]
  },
  {
   "cell_type": "code",
   "execution_count": 2,
   "id": "74489af6-7243-4c5c-859e-74a0d142aa82",
   "metadata": {},
   "outputs": [
    {
     "data": {
      "text/plain": [
       "['Areeba Rehman', 23, 3.4]"
      ]
     },
     "execution_count": 2,
     "metadata": {},
     "output_type": "execute_result"
    }
   ],
   "source": [
    "person"
   ]
  },
  {
   "cell_type": "code",
   "execution_count": 28,
   "id": "6b8907bf-add8-4134-90b5-b389b081b6eb",
   "metadata": {},
   "outputs": [
    {
     "name": "stdout",
     "output_type": "stream",
     "text": [
      "<class 'list'>\n",
      "['Areeba Rehman', 23, 3.4, 'BSCS']\n"
     ]
    }
   ],
   "source": [
    "person = [\"Areeba Rehman\" , 23 , 3.4 , \"BSCS\"] # [0,1,2,3] , [-4,-3,-2,-1]\n",
    "print(type(person))\n",
    "print(person)"
   ]
  },
  {
   "cell_type": "code",
   "execution_count": 31,
   "id": "9f153e11-b458-4352-827c-1136069cf204",
   "metadata": {},
   "outputs": [
    {
     "name": "stdout",
     "output_type": "stream",
     "text": [
      "['Areeba Rehman']\n",
      "['Areeba Rehman', 23]\n",
      "['Areeba Rehman', 23]\n",
      "['Areeba Rehman', 23, 3.4, 'BSCS']\n",
      "['Areeba Rehman', 23]\n",
      "['Areeba Rehman', 23]\n",
      "[23, 3.4, 'BSCS']\n",
      "[3.4, 'BSCS']\n",
      "[3.4]\n",
      "['Areeba Rehman', 23, 3.4]\n",
      "[23, 3.4]\n",
      "['Areeba Rehman', 23, 3.4]\n",
      "['Areeba Rehman']\n",
      "['Areeba Rehman', 3.4]\n",
      "[]\n"
     ]
    }
   ],
   "source": [
    "# list [Inclusive : Exclusive]\n",
    "print(person[0:1])\n",
    "print(person[0:2])\n",
    "print(person[:2])\n",
    "print(person[:])\n",
    "print(person[0:-2])\n",
    "print(person[:-2])\n",
    "print(person[-3:])\n",
    "print(person[-2:])\n",
    "print(person[-2:-1])\n",
    "print(person[:-1])\n",
    "print(person[-3:-1])\n",
    "print(person[0:3:1])# [inclusive : exclusive : step]\n",
    "print(person[0:2:3])\n",
    "print(person[0:3:2])\n",
    "print(person[0:2:-1])"
   ]
  },
  {
   "cell_type": "code",
   "execution_count": 30,
   "id": "c41446c8-6077-413e-ab77-a6dc38d8e00f",
   "metadata": {},
   "outputs": [
    {
     "data": {
      "text/plain": [
       "4"
      ]
     },
     "execution_count": 30,
     "metadata": {},
     "output_type": "execute_result"
    }
   ],
   "source": [
    "len(person)"
   ]
  },
  {
   "cell_type": "code",
   "execution_count": 5,
   "id": "177d7cbe-15d7-45ce-8b19-145c94b12735",
   "metadata": {},
   "outputs": [
    {
     "data": {
      "text/plain": [
       "6"
      ]
     },
     "execution_count": 5,
     "metadata": {},
     "output_type": "execute_result"
    }
   ],
   "source": [
    "name = \"Areeba\"\n",
    "len(name)"
   ]
  },
  {
   "cell_type": "code",
   "execution_count": 32,
   "id": "32846efe-d37e-4688-b236-1bd9937b5a6e",
   "metadata": {},
   "outputs": [
    {
     "name": "stdout",
     "output_type": "stream",
     "text": [
      "Areeba Rehman\n",
      "23\n"
     ]
    }
   ],
   "source": [
    "print(person[0])\n",
    "print(person[-3])"
   ]
  },
  {
   "cell_type": "code",
   "execution_count": 33,
   "id": "cd9bc32f-5f1e-419e-bcb0-17084359f690",
   "metadata": {},
   "outputs": [
    {
     "name": "stdout",
     "output_type": "stream",
     "text": [
      "Areeba Rehman\n",
      "23\n",
      "3.4\n",
      "BSCS\n"
     ]
    }
   ],
   "source": [
    "for bio in person:\n",
    "    print(bio)"
   ]
  },
  {
   "cell_type": "code",
   "execution_count": 37,
   "id": "a8e7c45c-63c1-46ee-adef-7fbfad6d24e4",
   "metadata": {},
   "outputs": [
    {
     "name": "stdout",
     "output_type": "stream",
     "text": [
      "Areeba Rehman\n",
      "23\n",
      "3.4\n",
      "BSCS\n"
     ]
    }
   ],
   "source": [
    "for bio in person:\n",
    "    print(bio)"
   ]
  },
  {
   "cell_type": "code",
   "execution_count": 38,
   "id": "383b0ec7-8058-48f7-8bcc-50424e7bc695",
   "metadata": {},
   "outputs": [
    {
     "data": {
      "text/plain": [
       "['Areeba Rehman', 23, 3.4, 'BSCS', 'Rehman']"
      ]
     },
     "execution_count": 38,
     "metadata": {},
     "output_type": "execute_result"
    }
   ],
   "source": [
    "person.append(\"Rehman\") #add element in last\n",
    "person"
   ]
  },
  {
   "cell_type": "code",
   "execution_count": 39,
   "id": "5767d671-a4ed-42b7-adcf-7edb822ab883",
   "metadata": {},
   "outputs": [
    {
     "data": {
      "text/plain": [
       "['Areeba Rehman', 'Rehman', 23, 3.4, 'BSCS', 'Rehman']"
      ]
     },
     "execution_count": 39,
     "metadata": {},
     "output_type": "execute_result"
    }
   ],
   "source": [
    "person.insert(1,\"Rehman\") #add element at specific index\n",
    "person"
   ]
  },
  {
   "cell_type": "code",
   "execution_count": 44,
   "id": "613c64da-1995-4390-9b26-eed4a2115ae2",
   "metadata": {},
   "outputs": [
    {
     "data": {
      "text/plain": [
       "['Areeba Rehman', 'Rehman', 3.4, 'BSCS', 'Rehman']"
      ]
     },
     "execution_count": 44,
     "metadata": {},
     "output_type": "execute_result"
    }
   ],
   "source": [
    "person.remove(23)\n",
    "person"
   ]
  },
  {
   "cell_type": "code",
   "execution_count": 50,
   "id": "66172cb6-1635-4db5-a5bc-8b2929b9731a",
   "metadata": {},
   "outputs": [
    {
     "name": "stdout",
     "output_type": "stream",
     "text": [
      "['Areeba', 3.4, ['java', 'python', 'c']]\n",
      "Areeba\n",
      "['java', 'python', 'c']\n",
      "python\n"
     ]
    }
   ],
   "source": [
    "person = [\"Areeba\" , 3.4 , [\"java\" , \"python\" , \"c\" ]]\n",
    "print(person)\n",
    "print(person[0])\n",
    "print(person[2])\n",
    "print(person[2][1])"
   ]
  },
  {
   "cell_type": "code",
   "execution_count": 51,
   "id": "d9133974-55e1-4692-83e6-070fae381fd7",
   "metadata": {},
   "outputs": [
    {
     "name": "stdout",
     "output_type": "stream",
     "text": [
      "HP\n"
     ]
    }
   ],
   "source": [
    "person = [\"Areeba\" , 3.4 , [\"java\" , \"python\" , \"c\" , [\"Dell\" , \"HP\"]]]\n",
    "print(person[2][3][1])          "
   ]
  },
  {
   "cell_type": "code",
   "execution_count": 40,
   "id": "14fcbc6c-265b-4295-99cb-8417acd88712",
   "metadata": {},
   "outputs": [
    {
     "data": {
      "text/plain": [
       "<function list.sort(*, key=None, reverse=False)>"
      ]
     },
     "execution_count": 40,
     "metadata": {},
     "output_type": "execute_result"
    }
   ],
   "source": [
    "#num_list = [1,34,56,3,2,78]\n",
    "#num_list.sort"
   ]
  },
  {
   "cell_type": "code",
   "execution_count": 8,
   "id": "ffbcf258-475e-49ed-a299-e0570aa4565c",
   "metadata": {},
   "outputs": [
    {
     "name": "stdout",
     "output_type": "stream",
     "text": [
      "['apple', 'banana', 'cherry', 'kiwi', 'mango']\n",
      "['apple', 'banana', 'mango']\n"
     ]
    }
   ],
   "source": [
    "fruits = [\"apple\" , \"banana\" , \"cherry\" , \"kiwi\" , \"mango\"]   # \n",
    "newlist = []\n",
    "\n",
    "for elements in fruits:\n",
    "    if \"a\" in elements:\n",
    "        newlist.append(elements)\n",
    "print(fruits)\n",
    "print(newlist)"
   ]
  },
  {
   "cell_type": "code",
   "execution_count": 11,
   "id": "29701f56-a288-49c5-8a56-9a7145927bed",
   "metadata": {},
   "outputs": [
    {
     "name": "stdout",
     "output_type": "stream",
     "text": [
      "['instagramchat', 'snapchat', 'facebookchat', 'whatsappchat', 'twitter']\n",
      "['instagramchat', 'snapchat', 'facebookchat', 'whatsappchat']\n"
     ]
    }
   ],
   "source": [
    "socialmedia = [\"instagramchat\" , \"snapchat\" , \"facebookchat\" , \"whatsappchat\" , \"twitter\"]\n",
    "chatlist = []\n",
    "\n",
    "for string in socialmedia:\n",
    "    if \"chat\" in string:\n",
    "        chatlist.append(string)\n",
    "print(socialmedia)\n",
    "print(chatlist)"
   ]
  },
  {
   "cell_type": "code",
   "execution_count": 12,
   "id": "cb3e5c57-80d0-47f2-88d2-ce114e269ece",
   "metadata": {},
   "outputs": [
    {
     "name": "stdout",
     "output_type": "stream",
     "text": [
      "['apple', 'banana', 'cherry', 'kiwi', 'mango']\n"
     ]
    }
   ],
   "source": [
    "fruits = [\"apple\", \"banana\", \"cherry\", \"kiwi\", \"mango\"]   # x is working same as element\n",
    "\n",
    "newlist = [x for x in fruits]\n",
    "\n",
    "print(newlist)"
   ]
  },
  {
   "cell_type": "code",
   "execution_count": null,
   "id": "318503d4-d7b4-4b14-8d72-dc504deea13f",
   "metadata": {},
   "outputs": [],
   "source": [
    "# while comparing the lists together it calculate its length"
   ]
  },
  {
   "cell_type": "code",
   "execution_count": 14,
   "id": "5895b7ce-0dd9-4a91-803f-acef89f5db52",
   "metadata": {},
   "outputs": [
    {
     "name": "stdout",
     "output_type": "stream",
     "text": [
      "['apple', 'banana', 'cherry', 'mango']\n"
     ]
    }
   ],
   "source": [
    "fruits = [\"apple\", \"banana\", \"cherry\", \"kiwi\", \"mango\"] \n",
    "\n",
    "newlist = [x for x in fruits if x != \"kiwi\"]\n",
    "\n",
    "print(newlist)"
   ]
  },
  {
   "cell_type": "code",
   "execution_count": 19,
   "id": "809a9cd2-3bbe-4d05-aceb-fee0bf29f0f3",
   "metadata": {},
   "outputs": [
    {
     "name": "stdout",
     "output_type": "stream",
     "text": [
      "[]\n"
     ]
    }
   ],
   "source": [
    "fruits = [\"apple\", \"banana\", \"cherry\", \"kiwi\", \"mango\"]  # if the required element is not at list then it shows null\n",
    "\n",
    "newlist = [x for x in fruits if x == \"kiwi1\"]\n",
    "\n",
    "print(newlist)"
   ]
  },
  {
   "cell_type": "code",
   "execution_count": 15,
   "id": "ee023d6f-aa7d-4e25-96b0-e39577bdce98",
   "metadata": {},
   "outputs": [
    {
     "name": "stdout",
     "output_type": "stream",
     "text": [
      "['apple', 'banana', 'mango']\n"
     ]
    }
   ],
   "source": [
    "fruits = [\"apple\", \"banana\", \"cherry\", \"kiwi\", \"mango\"]\n",
    "\n",
    "newlist = [x for x in fruits if \"a\" in x]\n",
    "\n",
    "print(newlist)"
   ]
  },
  {
   "cell_type": "code",
   "execution_count": 16,
   "id": "52bb0c94-856c-4f83-9554-72e9a5b6ee52",
   "metadata": {},
   "outputs": [
    {
     "name": "stdout",
     "output_type": "stream",
     "text": [
      "['instagramchat', 'snapchat', 'facebookchat', 'whatsappchat']\n"
     ]
    }
   ],
   "source": [
    "socialmedia = [\"instagramchat\" , \"snapchat\" , \"facebookchat\" , \"whatsappchat\" , \"twitter\"]\n",
    "chatlist = [string for string in socialmedia if \"chat\" in string]\n",
    "print(chatlist)"
   ]
  },
  {
   "cell_type": "code",
   "execution_count": 23,
   "id": "bdd2eb44-a850-4b80-b2ba-bdf3aa859c0e",
   "metadata": {},
   "outputs": [
    {
     "name": "stdout",
     "output_type": "stream",
     "text": [
      "['MS Data Science', 'MS AI', 'BS Software Engineering']\n"
     ]
    }
   ],
   "source": [
    "courses = [\"MS Data Science\" , \"MS AI\" , \"BS Software Engineering\" , \"MPhil Chemistry\"]\n",
    "newlist = [ x for x in courses if \"BS\" in x or \"MS\" in x]\n",
    "print(newlist)"
   ]
  },
  {
   "cell_type": "code",
   "execution_count": 24,
   "id": "fc0d48b2-d842-43cf-b6e9-8fc1208fcd9b",
   "metadata": {},
   "outputs": [
    {
     "name": "stdout",
     "output_type": "stream",
     "text": [
      "['MS Data Science', 'MS AI', 'BS Software Engineering', 'MPhil Chemistry']\n"
     ]
    }
   ],
   "source": [
    "courses = [\"MS Data Science\" , \"MS AI\" , \"BS Software Engineering\" , \"MPhil Chemistry\"]\n",
    "newlist = [ x for x in courses if \"BS\" in x or \"MS\" in x or \"MPhil\" in x]\n",
    "print(newlist)"
   ]
  },
  {
   "cell_type": "code",
   "execution_count": 33,
   "id": "16099660-11a7-4b8a-8aa7-495a1d8dace1",
   "metadata": {},
   "outputs": [
    {
     "name": "stdout",
     "output_type": "stream",
     "text": [
      "['BS Software Engineering', 'MPhil BS Chemistry']\n"
     ]
    },
    {
     "data": {
      "text/plain": [
       "2"
      ]
     },
     "execution_count": 33,
     "metadata": {},
     "output_type": "execute_result"
    }
   ],
   "source": [
    "courses = [\"MS Data Science\" , \"MS AI\" , \"BS Software Engineering\" , \"MPhil BS Chemistry\"]\n",
    "newlist = [ x for x in courses if \"BS\" in x or \"MPhil\" in x]\n",
    "print(newlist) \n",
    "len(newlist)"
   ]
  },
  {
   "cell_type": "code",
   "execution_count": 29,
   "id": "0f02e4b9-e1ba-4af6-a0da-7e420a09a7d1",
   "metadata": {},
   "outputs": [
    {
     "name": "stdout",
     "output_type": "stream",
     "text": [
      "['MS Data Science', 'MS AI', 'BS Software Engineering']\n",
      "['MS Data Science', 'MS AI']\n"
     ]
    }
   ],
   "source": [
    "courses = [\"MS Data Science\" , \"MS AI\" , \"BS Software Engineering\" , \"MPhil Chemistry\"]\n",
    "newlist = [ x for x in courses if \"BS\" in x or \"MS\" in x]\n",
    "print(newlist)\n",
    "newlist.pop()\n",
    "print(newlist)"
   ]
  },
  {
   "cell_type": "code",
   "execution_count": 31,
   "id": "65257972-982b-4d3f-86d7-4f1a21eaef5a",
   "metadata": {},
   "outputs": [
    {
     "name": "stdout",
     "output_type": "stream",
     "text": [
      "[0, 1, 2, 3, 4, 5, 6, 7, 8, 9]\n"
     ]
    }
   ],
   "source": [
    "newlist = [x for x in range(10)]\n",
    "\n",
    "print(newlist)"
   ]
  },
  {
   "cell_type": "code",
   "execution_count": 32,
   "id": "a2078671-92bd-4d8f-9343-55cd22083cce",
   "metadata": {},
   "outputs": [
    {
     "data": {
      "text/plain": [
       "10"
      ]
     },
     "execution_count": 32,
     "metadata": {},
     "output_type": "execute_result"
    }
   ],
   "source": [
    "len(newlist)"
   ]
  },
  {
   "cell_type": "code",
   "execution_count": 34,
   "id": "9b7494aa-d7cb-4bb5-9793-77ac5a386a4f",
   "metadata": {},
   "outputs": [
    {
     "name": "stdout",
     "output_type": "stream",
     "text": [
      "[13, 22, 38, 45, 65]\n"
     ]
    }
   ],
   "source": [
    "thislist = [22, 45, 13, 65, 38]\n",
    "thislist.sort()\n",
    "print(thislist)"
   ]
  },
  {
   "cell_type": "code",
   "execution_count": 35,
   "id": "209127a4-68eb-43b8-aac2-ec445f430f88",
   "metadata": {},
   "outputs": [
    {
     "name": "stdout",
     "output_type": "stream",
     "text": [
      "['facebookchat', 'instagramchat', 'snapchat', 'whatsappchat']\n"
     ]
    }
   ],
   "source": [
    "socialmedia = [\"instagramchat\" , \"snapchat\" , \"facebookchat\" , \"whatsappchat\" , \"twitter\"]\n",
    "chatlist.sort()\n",
    "print(chatlist)"
   ]
  },
  {
   "cell_type": "code",
   "execution_count": 36,
   "id": "6204cfc1-1e16-47c5-8c75-74f5046218ef",
   "metadata": {},
   "outputs": [
    {
     "name": "stdout",
     "output_type": "stream",
     "text": [
      "['banana', 'kiwi', 'mango', 'mengo', 'orange', 'pineapple']\n"
     ]
    }
   ],
   "source": [
    "thislist = [\"orange\", \"mango\", \"kiwi\", \"pineapple\", \"banana\", \"mengo\"]\n",
    "thislist.sort()\n",
    "print(thislist)"
   ]
  },
  {
   "cell_type": "code",
   "execution_count": 37,
   "id": "31685708-bcb4-4405-a4a5-b2f537e6e2ed",
   "metadata": {},
   "outputs": [
    {
     "name": "stdout",
     "output_type": "stream",
     "text": [
      "['pineapple', 'orange', 'mango', 'kiwi', 'banana']\n"
     ]
    }
   ],
   "source": [
    "thislist = [\"orange\", \"mango\", \"kiwi\", \"pineapple\", \"banana\"] # reverse is always false by default, so we have to make it true first.\n",
    "thislist.sort(reverse = True )\n",
    "print(thislist)"
   ]
  },
  {
   "cell_type": "code",
   "execution_count": 38,
   "id": "b2158462-0120-4aea-bfa2-b7011754d8ca",
   "metadata": {},
   "outputs": [
    {
     "name": "stdout",
     "output_type": "stream",
     "text": [
      "[65, 45, 38, 22, 13]\n"
     ]
    }
   ],
   "source": [
    "thislist = [22, 45, 13, 65, 38]\n",
    "thislist.sort(reverse = True)\n",
    "print(thislist)"
   ]
  },
  {
   "cell_type": "code",
   "execution_count": 39,
   "id": "d70a1aa7-e4c4-441a-aa11-6bf490d31438",
   "metadata": {},
   "outputs": [
    {
     "name": "stdout",
     "output_type": "stream",
     "text": [
      "['whatsappchat', 'snapchat', 'instagramchat', 'facebookchat']\n"
     ]
    }
   ],
   "source": [
    "socialmedia = [\"instagramchat\" , \"snapchat\" , \"facebookchat\" , \"whatsappchat\" , \"twitter\"]\n",
    "chatlist.sort(reverse = True)\n",
    "print(chatlist)"
   ]
  },
  {
   "cell_type": "code",
   "execution_count": 40,
   "id": "08c27bad-1643-4591-8e68-bd522cc48773",
   "metadata": {},
   "outputs": [
    {
     "name": "stdout",
     "output_type": "stream",
     "text": [
      "['apple', 'banana', 'cherry', 'mango']\n"
     ]
    }
   ],
   "source": [
    "thislist = [\"apple\", \"banana\", \"cherry\",\"mango\", \"pineapple\"]\n",
    "mylist = thislist.copy()\n",
    "print(mylist)"
   ]
  },
  {
   "cell_type": "code",
   "execution_count": 41,
   "id": "7c37b1d2-fbe6-407c-8fe1-c2f17b5f013b",
   "metadata": {},
   "outputs": [
    {
     "name": "stdout",
     "output_type": "stream",
     "text": [
      "['instagramchat', 'snapchat', 'facebookchat', 'whatsappchat', 'twitter']\n"
     ]
    }
   ],
   "source": [
    "socialmedia = [\"instagramchat\" , \"snapchat\" , \"facebookchat\" , \"whatsappchat\" , \"twitter\"]\n",
    "mylist = socialmedia.copy()\n",
    "print(mylist)"
   ]
  },
  {
   "cell_type": "code",
   "execution_count": 42,
   "id": "7448d091-923b-45c2-897e-25fcbd4b6e2d",
   "metadata": {},
   "outputs": [
    {
     "name": "stdout",
     "output_type": "stream",
     "text": [
      "['instagramchat', 'snapchat', 'facebookchat', 'whatsappchat', 'twitter', 'telegram']\n"
     ]
    }
   ],
   "source": [
    "mylist.append(\"telegram\")\n",
    "print(mylist)"
   ]
  }
 ],
 "metadata": {
  "kernelspec": {
   "display_name": "Python 3 (ipykernel)",
   "language": "python",
   "name": "python3"
  },
  "language_info": {
   "codemirror_mode": {
    "name": "ipython",
    "version": 3
   },
   "file_extension": ".py",
   "mimetype": "text/x-python",
   "name": "python",
   "nbconvert_exporter": "python",
   "pygments_lexer": "ipython3",
   "version": "3.11.7"
  }
 },
 "nbformat": 4,
 "nbformat_minor": 5
}

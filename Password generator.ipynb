{
 "cells": [
  {
   "cell_type": "code",
   "execution_count": 1,
   "id": "3df1c8c2-6d06-4a8b-947b-834cf86a861c",
   "metadata": {},
   "outputs": [
    {
     "name": "stdout",
     "output_type": "stream",
     "text": [
      "Welcome to generate password\n"
     ]
    },
    {
     "name": "stdin",
     "output_type": "stream",
     "text": [
      "How many letters you want to use ? 6\n",
      "How many numbers you want to use ? 2\n",
      "How many symbols you want to use ? 3\n"
     ]
    },
    {
     "name": "stdout",
     "output_type": "stream",
     "text": [
      " gcikzi75*&(\n"
     ]
    }
   ],
   "source": [
    "import random\n",
    "letters = ['a' , 'b' , 'c' , 'd' ,'e' ,'f', 'g' , 'h' , 'i' ,'j', 'k' ,'l' , 'm' , 'n' , 'o' , 'p' , 'q' , 'r' , 's' , 't' , 'u', 'v' , 'w' , 'x' , 'y' ,'z']\n",
    "numbers = ['0','1','2','3','4','5','6','7','8','9']\n",
    "symbols = ['!','@','#','$','%','&','(',')','*','+']\n",
    "\n",
    "print(\"Welcome to generate password\")\n",
    "nr_letters = int(input(\"How many letters you want to use ?\" ))\n",
    "nr_numbers = int(input(\"How many numbers you want to use ?\" ))\n",
    "nr_symbols = int(input(\"How many symbols you want to use ?\" ))\n",
    "\n",
    "password = \" \"\n",
    "\n",
    "for char in range(1, nr_letters+1):\n",
    "    password += random.choice(letters)\n",
    "    \n",
    "for char in range(1, nr_numbers+1):\n",
    "    password += random.choice(numbers)\n",
    "\n",
    "for char in range(1, nr_symbols+1):\n",
    "    password += random.choice(symbols)\n",
    "    \n",
    "print(password)"
   ]
  },
  {
   "cell_type": "code",
   "execution_count": null,
   "id": "1b9183f2-70fb-478d-a4f7-bd2422120247",
   "metadata": {},
   "outputs": [],
   "source": []
  }
 ],
 "metadata": {
  "kernelspec": {
   "display_name": "Python 3 (ipykernel)",
   "language": "python",
   "name": "python3"
  },
  "language_info": {
   "codemirror_mode": {
    "name": "ipython",
    "version": 3
   },
   "file_extension": ".py",
   "mimetype": "text/x-python",
   "name": "python",
   "nbconvert_exporter": "python",
   "pygments_lexer": "ipython3",
   "version": "3.11.7"
  }
 },
 "nbformat": 4,
 "nbformat_minor": 5
}

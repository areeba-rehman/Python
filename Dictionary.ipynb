{
 "cells": [
  {
   "cell_type": "code",
   "execution_count": 12,
   "id": "2bef5e20-0496-4abf-93ad-fdbcf20ae16b",
   "metadata": {},
   "outputs": [
    {
     "name": "stdout",
     "output_type": "stream",
     "text": [
      "{}\n"
     ]
    },
    {
     "data": {
      "text/plain": [
       "dict"
      ]
     },
     "execution_count": 12,
     "metadata": {},
     "output_type": "execute_result"
    }
   ],
   "source": [
    "dic = {}  #key:value\n",
    "print(dic)\n",
    "type(dic)"
   ]
  },
  {
   "cell_type": "code",
   "execution_count": 2,
   "id": "2e227b3b-4759-4452-95fd-1913c5041572",
   "metadata": {},
   "outputs": [
    {
     "name": "stdout",
     "output_type": "stream",
     "text": [
      "BSCS\n"
     ]
    }
   ],
   "source": [
    "person = {\"name\" : \"Areeba\" , \"age\" : 23 , \"education\" : \"BSCS\" , \"cgpa\" : 3.4}\n",
    "print(person[\"education\"])"
   ]
  },
  {
   "cell_type": "code",
   "execution_count": 4,
   "id": "adaf49e4-c0ef-432a-8d3f-72a7f8479d77",
   "metadata": {},
   "outputs": [
    {
     "data": {
      "text/plain": [
       "4"
      ]
     },
     "execution_count": 4,
     "metadata": {},
     "output_type": "execute_result"
    }
   ],
   "source": [
    "person = {\"name\" : \"Areeba\" , \"age\" : 23 , \"education\" : \"BSCS\" , \"cgpa\" : 3.4}\n",
    "len(person)"
   ]
  },
  {
   "cell_type": "code",
   "execution_count": 6,
   "id": "dec3e88a-1222-43a3-a396-a901bc3b4e5c",
   "metadata": {},
   "outputs": [
    {
     "name": "stdout",
     "output_type": "stream",
     "text": [
      "Name is exist\n"
     ]
    }
   ],
   "source": [
    "person = {\"name\" : \"Areeba\" , \"age\" : 23 , \"education\" : \"BSCS\" , \"cgpa\" : 3.4}\n",
    "if \"name\" in person:\n",
    "    print(\"Name is exist\")\n",
    "else:\n",
    "    print(\"Name is not exist\")"
   ]
  },
  {
   "cell_type": "code",
   "execution_count": 11,
   "id": "1798f53b-b20d-44ac-8eb4-7e658d781e9b",
   "metadata": {},
   "outputs": [
    {
     "name": "stdout",
     "output_type": "stream",
     "text": [
      "{'name': 'Areeba', 'age': 23, 'education': 'BSCS', 'cgpa': 3.5}\n"
     ]
    }
   ],
   "source": [
    "person[\"cgpa\"]=3.5\n",
    "print(person)"
   ]
  },
  {
   "cell_type": "code",
   "execution_count": 21,
   "id": "a8abff22-631c-486f-b37c-b5ea1b8a7931",
   "metadata": {},
   "outputs": [
    {
     "name": "stdout",
     "output_type": "stream",
     "text": [
      "{'name': 'Areeba', 'age': 23, 'education': 'BSCS', 'cgpa': 3.4, 'skill': 'python'}\n"
     ]
    }
   ],
   "source": [
    "person = {\"name\" : \"Areeba\" , \"age\" : 23 , \"education\" : \"BSCS\" , \"cgpa\" : 3.4 , \"skill\" : \"python\"}\n",
    "print(person)"
   ]
  },
  {
   "cell_type": "code",
   "execution_count": 22,
   "id": "175550d6-34db-4edc-a855-efbee977b747",
   "metadata": {},
   "outputs": [
    {
     "name": "stdout",
     "output_type": "stream",
     "text": [
      "{'name': 'Areeba', 'age': 23, 'education': 'BSCS', 'cgpa': 3.4, 'skill': 'python', 'city': 'Karachi'}\n"
     ]
    }
   ],
   "source": [
    "person[\"city\"] = \"Karachi\"\n",
    "print(person)"
   ]
  },
  {
   "cell_type": "code",
   "execution_count": 24,
   "id": "41aa246c-859c-4161-8bab-939c8af5a513",
   "metadata": {},
   "outputs": [
    {
     "name": "stdout",
     "output_type": "stream",
     "text": [
      "{'name': 'Areeba', 'age': 23, 'education': 'BSCS', 'cgpa': 3.4, 'skill': 'python', 'city': 'Karachi', 'hobbies': ['Socialmedia surfing', 'reading', 'cricket']}\n"
     ]
    }
   ],
   "source": [
    "person[\"hobbies\"] = [\"Socialmedia surfing\" , \"reading\" , \"cricket\"] #adding list in dictionary\n",
    "print(person)"
   ]
  },
  {
   "cell_type": "code",
   "execution_count": 25,
   "id": "70ba0e09-52d2-457e-a3be-21d681c130ae",
   "metadata": {},
   "outputs": [
    {
     "data": {
      "text/plain": [
       "{'name': 'Areeba',\n",
       " 'age': 23,\n",
       " 'education': 'BSCS',\n",
       " 'cgpa': 3.4,\n",
       " 'skill': 'python',\n",
       " 'city': 'Karachi',\n",
       " 'hobbies': ['Socialmedia surfing', 'reading', 'cricket']}"
      ]
     },
     "execution_count": 25,
     "metadata": {},
     "output_type": "execute_result"
    }
   ],
   "source": [
    "person"
   ]
  },
  {
   "cell_type": "code",
   "execution_count": 26,
   "id": "6dbc9953-6b80-44bc-8200-ca2b8f43ffda",
   "metadata": {},
   "outputs": [
    {
     "name": "stdout",
     "output_type": "stream",
     "text": [
      "{'name': 'Areeba', 'age': 23, 'education': 'BSCS', 'cgpa': 3.4, 'skill': 'python', 'hobbies': ['Socialmedia surfing', 'reading', 'cricket']}\n"
     ]
    }
   ],
   "source": [
    "del person['city']\n",
    "print(person)"
   ]
  },
  {
   "cell_type": "code",
   "execution_count": 27,
   "id": "99ca1ea4-390b-4578-9fbd-f91aef9e0400",
   "metadata": {},
   "outputs": [
    {
     "data": {
      "text/plain": [
       "dict_keys(['name', 'age', 'education', 'cgpa', 'skill', 'hobbies'])"
      ]
     },
     "execution_count": 27,
     "metadata": {},
     "output_type": "execute_result"
    }
   ],
   "source": [
    "person.keys()"
   ]
  },
  {
   "cell_type": "code",
   "execution_count": 28,
   "id": "fb27b574-9c2c-4591-9dce-409863ffddef",
   "metadata": {},
   "outputs": [
    {
     "data": {
      "text/plain": [
       "dict_values(['Areeba', 23, 'BSCS', 3.4, 'python', ['Socialmedia surfing', 'reading', 'cricket']])"
      ]
     },
     "execution_count": 28,
     "metadata": {},
     "output_type": "execute_result"
    }
   ],
   "source": [
    "person.values()"
   ]
  },
  {
   "cell_type": "code",
   "execution_count": 30,
   "id": "119eb164-2ebc-4bb6-93e8-decca3791f15",
   "metadata": {},
   "outputs": [
    {
     "data": {
      "text/plain": [
       "True"
      ]
     },
     "execution_count": 30,
     "metadata": {},
     "output_type": "execute_result"
    }
   ],
   "source": [
    "\"name\" in person #checking is name exist in dictionary or not\n",
    "                   #in is always boolean"
   ]
  },
  {
   "cell_type": "code",
   "execution_count": 32,
   "id": "78e65dc6-ec6a-4e25-b7f3-38d4ed6f2b42",
   "metadata": {},
   "outputs": [
    {
     "name": "stdout",
     "output_type": "stream",
     "text": [
      "{}\n"
     ]
    }
   ],
   "source": [
    "person.clear()   #jst clearing the element\n",
    "print(person)"
   ]
  },
  {
   "cell_type": "code",
   "execution_count": 40,
   "id": "48e39559-cd57-4105-b586-2d210eec56e1",
   "metadata": {},
   "outputs": [
    {
     "data": {
      "text/plain": [
       "'Areeba'"
      ]
     },
     "execution_count": 40,
     "metadata": {},
     "output_type": "execute_result"
    }
   ],
   "source": [
    "person = {\"name\" : \"Areeba\" , \"age\" : 23 , \"education\" : \"BSCS\" , \"cgpa\" : 3.4 , \"skill\" : \"python\"}\n",
    "person.get(\"name\")"
   ]
  },
  {
   "cell_type": "code",
   "execution_count": 41,
   "id": "eca214bb-134b-41eb-b8f5-8efdd3d1145e",
   "metadata": {},
   "outputs": [
    {
     "name": "stdout",
     "output_type": "stream",
     "text": [
      "Original dictionary to explain delete function: {'name': 'Areeba', 'age': 23, 'education': 'BSCS', 'cgpa': 3.4, 'skill': 'python'}\n"
     ]
    }
   ],
   "source": [
    "person = {\"name\" : \"Areeba\" , \"age\" : 23 , \"education\" : \"BSCS\" , \"cgpa\" : 3.4 , \"skill\" : \"python\"}\n",
    "print(\"Original dictionary to explain delete function:\" , person) "
   ]
  },
  {
   "cell_type": "code",
   "execution_count": 44,
   "id": "a55e78ad-a596-49e9-aa10-b7aa8bbb5c79",
   "metadata": {},
   "outputs": [
    {
     "name": "stdout",
     "output_type": "stream",
     "text": [
      "{'favourite book': 'abc', ' movie': 'money heist', 'hobby': 'social media surfing'}\n"
     ]
    }
   ],
   "source": [
    "my_dic = {\"favourite book\" : \"abc\" , \" movie\" : \"money heist\" , \"hobby\" : \"social media surfing\"}\n",
    "print(my_dic)"
   ]
  },
  {
   "cell_type": "code",
   "execution_count": 46,
   "id": "df2b0cbd-a1ed-4c71-8475-0cce59507135",
   "metadata": {},
   "outputs": [
    {
     "name": "stdout",
     "output_type": "stream",
     "text": [
      "name\n",
      "age\n",
      "education\n",
      "cgpa\n",
      "skill\n"
     ]
    }
   ],
   "source": [
    "for key in person:\n",
    "    print(key)"
   ]
  },
  {
   "cell_type": "code",
   "execution_count": 53,
   "id": "581cafc9-d70a-4813-aa47-1f8bbf1d274e",
   "metadata": {},
   "outputs": [
    {
     "name": "stdout",
     "output_type": "stream",
     "text": [
      "key: name\n",
      "value: Areeba\n",
      "key: age\n",
      "value: 23\n",
      "key: education\n",
      "value: BSCS\n",
      "key: cgpa\n",
      "value: 3.4\n",
      "key: skill\n",
      "value: python\n"
     ]
    }
   ],
   "source": [
    "for i in person:\n",
    "    print(\"key:\", i)\n",
    "    print(\"value:\",person[i])"
   ]
  },
  {
   "cell_type": "code",
   "execution_count": 54,
   "id": "bb7bb87c-777b-4ab1-a68e-540af5331a0a",
   "metadata": {},
   "outputs": [
    {
     "data": {
      "text/plain": [
       "'Areeba'"
      ]
     },
     "execution_count": 54,
     "metadata": {},
     "output_type": "execute_result"
    }
   ],
   "source": [
    "person[\"name\"]"
   ]
  },
  {
   "cell_type": "code",
   "execution_count": 55,
   "id": "203bede0-96e3-4d4b-ae26-752412c48c88",
   "metadata": {},
   "outputs": [
    {
     "data": {
      "text/plain": [
       "dict_items([('name', 'Areeba'), ('age', 23), ('education', 'BSCS'), ('cgpa', 3.4), ('skill', 'python')])"
      ]
     },
     "execution_count": 55,
     "metadata": {},
     "output_type": "execute_result"
    }
   ],
   "source": [
    "person.items()"
   ]
  },
  {
   "cell_type": "code",
   "execution_count": 56,
   "id": "1af49d38-952c-4ce9-b426-39ad30dc9c81",
   "metadata": {},
   "outputs": [
    {
     "name": "stdout",
     "output_type": "stream",
     "text": [
      "name\n",
      "Areeba\n",
      "age\n",
      "23\n",
      "education\n",
      "BSCS\n",
      "cgpa\n",
      "3.4\n",
      "skill\n",
      "python\n"
     ]
    }
   ],
   "source": [
    "for key, value in person.items():\n",
    "    print(key)\n",
    "    print(value)"
   ]
  },
  {
   "cell_type": "code",
   "execution_count": null,
   "id": "771a7e69-c95c-444b-8355-90c171091ef6",
   "metadata": {},
   "outputs": [],
   "source": []
  }
 ],
 "metadata": {
  "kernelspec": {
   "display_name": "Python 3 (ipykernel)",
   "language": "python",
   "name": "python3"
  },
  "language_info": {
   "codemirror_mode": {
    "name": "ipython",
    "version": 3
   },
   "file_extension": ".py",
   "mimetype": "text/x-python",
   "name": "python",
   "nbconvert_exporter": "python",
   "pygments_lexer": "ipython3",
   "version": "3.11.7"
  }
 },
 "nbformat": 4,
 "nbformat_minor": 5
}
